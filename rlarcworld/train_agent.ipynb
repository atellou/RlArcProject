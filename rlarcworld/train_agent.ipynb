{
 "cells": [
  {
   "cell_type": "code",
   "execution_count": 1,
   "metadata": {},
   "outputs": [],
   "source": [
    "from torchrl.data.replay_buffers import (\n",
    "    TensorDictReplayBuffer,\n",
    "    LazyTensorStorage,\n",
    "    PrioritizedSampler,\n",
    ")\n",
    "from tensordict import TensorDict\n",
    "\n",
    "import torch\n",
    "from torch.utils.data import DataLoader\n",
    "import matplotlib.pyplot as plt\n",
    "import gymnasium as gym\n",
    "import numpy as np\n",
    "\n",
    "from rlarcworld.arc_dataset import ArcDataset, ArcSampleTransformer\n",
    "from rlarcworld.enviroments.arc_batch_grid_env import ArcBatchGridEnv\n",
    "from rlarcworld.enviroments.wrappers.rewards import PixelAwareRewardWrapper\n",
    "from rlarcworld.agent.actor import ArcActorNetwork\n",
    "from rlarcworld.agent.critic import ArcCriticNetwork\n",
    "\n",
    "\n",
    "import logging\n",
    "\n",
    "logger = logging.getLogger(__name__)\n",
    "logger.setLevel(logging.DEBUG)"
   ]
  },
  {
   "cell_type": "code",
   "execution_count": 2,
   "metadata": {},
   "outputs": [],
   "source": [
    "grid_size = 30\n",
    "color_values = 11\n",
    "batch_size = 2\n",
    "n_steps = 100  # For testing\n",
    "\n",
    "## Dataset\n",
    "dataset = ArcDataset(\n",
    "    \"./dataset/training\",\n",
    "    keep_in_memory=True,\n",
    "    transform=ArcSampleTransformer((grid_size, grid_size), examples_stack_dim=10),\n",
    ")\n",
    "train_samples = DataLoader(dataset=dataset, batch_size=batch_size)\n",
    "## Environment\n",
    "env = ArcBatchGridEnv(size=grid_size, color_values=color_values)\n",
    "env = PixelAwareRewardWrapper(env)\n",
    "\n",
    "## The atoms are essentially the \"bins\" or \"categories\"\n",
    "## into which the possible range of returns is divided.\n",
    "## Consequently depends of the reward behaviour\n",
    "n_atoms = {\"pixel_wise\": 100, \"binary\": 3}\n",
    "\n",
    "## Networks\n",
    "actor = ArcActorNetwork(size=grid_size, color_values=color_values)\n",
    "critic = ArcCriticNetwork(n_atoms=n_atoms)\n",
    "## Target Networks\n",
    "target_actor = actor\n",
    "target_critic = critic"
   ]
  },
  {
   "cell_type": "code",
   "execution_count": 3,
   "metadata": {},
   "outputs": [],
   "source": [
    "rb = TensorDictReplayBuffer(\n",
    "    storage=LazyTensorStorage(batch_size),\n",
    "    sampler=PrioritizedSampler(max_capacity=batch_size, alpha=1.0, beta=1.0),\n",
    "    priority_key=\"priority\",\n",
    ")"
   ]
  },
  {
   "cell_type": "code",
   "execution_count": 4,
   "metadata": {},
   "outputs": [],
   "source": [
    "for episode, samples in enumerate(train_samples):\n",
    "    observation, information = env.reset(\n",
    "        options={\"batch\": samples[\"task\"], \"examples\":samples[\"examples\"]}, seed=episode\n",
    "    )\n",
    "    for step in range(n_steps):\n",
    "        init_state = env.get_wrapper_attr(\"state\")\n",
    "        actions = actor.predict(init_state)\n",
    "        obs, reward, terminated, truncated, info = env.step(actor.get_discrete_actions(actions))\n",
    "        final_state = env.get_wrapper_attr(\"state\")\n",
    "        final_state.update({\"actions\": actions})\n",
    "        critic.predict(final_state)\n",
    "        if terminated or truncated:\n",
    "            break"
   ]
  },
  {
   "cell_type": "code",
   "execution_count": null,
   "metadata": {},
   "outputs": [],
   "source": []
  }
 ],
 "metadata": {
  "kernelspec": {
   "display_name": "rlarcworld-Ex6MQs0l-py3.10",
   "language": "python",
   "name": "python3"
  },
  "language_info": {
   "codemirror_mode": {
    "name": "ipython",
    "version": 3
   },
   "file_extension": ".py",
   "mimetype": "text/x-python",
   "name": "python",
   "nbconvert_exporter": "python",
   "pygments_lexer": "ipython3",
   "version": "3.10.12"
  }
 },
 "nbformat": 4,
 "nbformat_minor": 2
}
