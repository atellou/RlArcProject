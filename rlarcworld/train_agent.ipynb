{
 "cells": [
  {
   "cell_type": "code",
   "execution_count": 2,
   "metadata": {},
   "outputs": [],
   "source": [
    "from torchrl.data.replay_buffers import (\n",
    "    TensorDictReplayBuffer,\n",
    "    LazyTensorStorage,\n",
    "    PrioritizedSampler,\n",
    ")\n",
    "from tensordict import TensorDict\n",
    "\n",
    "import torch\n",
    "from torch.utils.data import DataLoader\n",
    "import matplotlib.pyplot as plt\n",
    "import gymnasium as gym\n",
    "import numpy as np\n",
    "\n",
    "from rlarcworld.arc_dataset import ArcDataset, ArcSampleTransformer\n",
    "from rlarcworld.enviroments.arc_batch_grid_env import ArcBatchGridEnv\n",
    "from rlarcworld.enviroments.wrappers.rewards import PixelAwareRewardWrapper\n",
    "from rlarcworld.agent.actor import ArcActorNetwork\n",
    "from rlarcworld.agent.critic import ArcCriticNetwork\n",
    "\n",
    "from rlarcworld.algorithms.d4pg import D4PG"
   ]
  },
  {
   "cell_type": "code",
   "execution_count": 2,
   "metadata": {},
   "outputs": [],
   "source": [
    "import logging\n",
    "\n",
    "logger = logging.getLogger(__name__)\n",
    "logger.setLevel(logging.DEBUG)"
   ]
  },
  {
   "cell_type": "code",
   "execution_count": 3,
   "metadata": {},
   "outputs": [],
   "source": [
    "grid_size = 30\n",
    "color_values = 11\n",
    "batch_size = 2\n",
    "n_steps = 100  # For testing\n",
    "\n",
    "## Dataset\n",
    "dataset = ArcDataset(\n",
    "    \"./dataset/training\",\n",
    "    keep_in_memory=True,\n",
    "    transform=ArcSampleTransformer((grid_size, grid_size), examples_stack_dim=10),\n",
    ")\n",
    "train_samples = DataLoader(dataset=dataset, batch_size=batch_size)\n",
    "## Environment\n",
    "env = ArcBatchGridEnv(size=grid_size, color_values=color_values)\n",
    "env = PixelAwareRewardWrapper(env)\n",
    "\n",
    "## The atoms are essentially the \"bins\" or \"categories\"\n",
    "## into which the possible range of returns is divided.\n",
    "## Consequently depends of the reward behaviour\n",
    "n_atoms = {\"pixel_wise\": 100, \"binary\": 3}\n",
    "\n",
    "## Networks\n",
    "actor = ArcActorNetwork(size=grid_size, color_values=color_values)\n",
    "critic = ArcCriticNetwork(size=grid_size, color_values=color_values,n_atoms=n_atoms)\n",
    "## Target Networks\n",
    "actor_target = actor\n",
    "critic_target = critic"
   ]
  },
  {
   "cell_type": "code",
   "execution_count": 7,
   "metadata": {},
   "outputs": [
    {
     "name": "stdout",
     "output_type": "stream",
     "text": [
      "torch.Size([10, 2, 30, 30])\n"
     ]
    }
   ],
   "source": [
    "D4PG().train_d4pg(\n",
    "    actor,\n",
    "    critic,\n",
    "    actor_target,\n",
    "    critic_target,\n",
    "    replay_buffer=rb,\n",
    "    actor_optimizer=torch.optim.Adam(actor.parameters(), lr=1e-4),\n",
    "    critic_optimizer=torch.optim.Adam(critic.parameters(), lr=1e-4),\n",
    "    gamma=0.99,\n",
    "    num_atoms=100,\n",
    "    v_min=-1.0,\n",
    "    v_max=1.0,\n",
    "    batch_size=batch_size,\n",
    "    target_update_freq=10,\n",
    "    steps=n_steps,\n",
    ")"
   ]
  },
  {
   "cell_type": "code",
   "execution_count": 5,
   "metadata": {},
   "outputs": [],
   "source": [
    "rb = TensorDictReplayBuffer(\n",
    "    storage=LazyTensorStorage(batch_size),\n",
    "    sampler=PrioritizedSampler(max_capacity=batch_size, alpha=1.0, beta=1.0),\n",
    "    priority_key=\"priority\",\n",
    ")"
   ]
  },
  {
   "cell_type": "markdown",
   "metadata": {},
   "source": [
    "**Pseudocode Q-Learning Algorithm for Categorical Actions**\n",
    "\n",
    "- Get the current observations in the state (s); Includes the different kind of grids and values managed by the environment.\n",
    "- Pass the *s* to the actor to get the action *a*, reward *r*, done flag *d* and next state *s'*.\n",
    "- Compute the categorical distribution over returns *Z_pi* for the next state *s'* using the critic network.\n",
    "- Get the best action *a'\\** using the target actor on next state *s'*\n"
   ]
  },
  {
   "cell_type": "code",
   "execution_count": 9,
   "metadata": {},
   "outputs": [
    {
     "ename": "RuntimeError",
     "evalue": "Input type (long int) and bias type (float) should be the same",
     "output_type": "error",
     "traceback": [
      "\u001b[0;31m---------------------------------------------------------------------------\u001b[0m",
      "\u001b[0;31mRuntimeError\u001b[0m                              Traceback (most recent call last)",
      "Cell \u001b[0;32mIn[9], line 7\u001b[0m\n\u001b[1;32m      5\u001b[0m \u001b[38;5;28;01mfor\u001b[39;00m step \u001b[38;5;129;01min\u001b[39;00m \u001b[38;5;28mrange\u001b[39m(n_steps):\n\u001b[1;32m      6\u001b[0m     init_state \u001b[38;5;241m=\u001b[39m env\u001b[38;5;241m.\u001b[39mget_wrapper_attr(\u001b[38;5;124m\"\u001b[39m\u001b[38;5;124mstate\u001b[39m\u001b[38;5;124m\"\u001b[39m)\n\u001b[0;32m----> 7\u001b[0m     actions \u001b[38;5;241m=\u001b[39m \u001b[43mactor\u001b[49m\u001b[43m(\u001b[49m\u001b[43minit_state\u001b[49m\u001b[43m)\u001b[49m\n\u001b[1;32m      8\u001b[0m     obs, reward, terminated, truncated, info \u001b[38;5;241m=\u001b[39m env\u001b[38;5;241m.\u001b[39mstep(actor\u001b[38;5;241m.\u001b[39mget_discrete_actions(actions))\n\u001b[1;32m      9\u001b[0m     final_state \u001b[38;5;241m=\u001b[39m env\u001b[38;5;241m.\u001b[39mget_wrapper_attr(\u001b[38;5;124m\"\u001b[39m\u001b[38;5;124mstate\u001b[39m\u001b[38;5;124m\"\u001b[39m)\n",
      "File \u001b[0;32m~/.cache/pypoetry/virtualenvs/rlarcworld-ADz4tFzs-py3.12/lib/python3.12/site-packages/torch/nn/modules/module.py:1736\u001b[0m, in \u001b[0;36mModule._wrapped_call_impl\u001b[0;34m(self, *args, **kwargs)\u001b[0m\n\u001b[1;32m   1734\u001b[0m     \u001b[38;5;28;01mreturn\u001b[39;00m \u001b[38;5;28mself\u001b[39m\u001b[38;5;241m.\u001b[39m_compiled_call_impl(\u001b[38;5;241m*\u001b[39margs, \u001b[38;5;241m*\u001b[39m\u001b[38;5;241m*\u001b[39mkwargs)  \u001b[38;5;66;03m# type: ignore[misc]\u001b[39;00m\n\u001b[1;32m   1735\u001b[0m \u001b[38;5;28;01melse\u001b[39;00m:\n\u001b[0;32m-> 1736\u001b[0m     \u001b[38;5;28;01mreturn\u001b[39;00m \u001b[38;5;28;43mself\u001b[39;49m\u001b[38;5;241;43m.\u001b[39;49m\u001b[43m_call_impl\u001b[49m\u001b[43m(\u001b[49m\u001b[38;5;241;43m*\u001b[39;49m\u001b[43margs\u001b[49m\u001b[43m,\u001b[49m\u001b[43m \u001b[49m\u001b[38;5;241;43m*\u001b[39;49m\u001b[38;5;241;43m*\u001b[39;49m\u001b[43mkwargs\u001b[49m\u001b[43m)\u001b[49m\n",
      "File \u001b[0;32m~/.cache/pypoetry/virtualenvs/rlarcworld-ADz4tFzs-py3.12/lib/python3.12/site-packages/torch/nn/modules/module.py:1747\u001b[0m, in \u001b[0;36mModule._call_impl\u001b[0;34m(self, *args, **kwargs)\u001b[0m\n\u001b[1;32m   1742\u001b[0m \u001b[38;5;66;03m# If we don't have any hooks, we want to skip the rest of the logic in\u001b[39;00m\n\u001b[1;32m   1743\u001b[0m \u001b[38;5;66;03m# this function, and just call forward.\u001b[39;00m\n\u001b[1;32m   1744\u001b[0m \u001b[38;5;28;01mif\u001b[39;00m \u001b[38;5;129;01mnot\u001b[39;00m (\u001b[38;5;28mself\u001b[39m\u001b[38;5;241m.\u001b[39m_backward_hooks \u001b[38;5;129;01mor\u001b[39;00m \u001b[38;5;28mself\u001b[39m\u001b[38;5;241m.\u001b[39m_backward_pre_hooks \u001b[38;5;129;01mor\u001b[39;00m \u001b[38;5;28mself\u001b[39m\u001b[38;5;241m.\u001b[39m_forward_hooks \u001b[38;5;129;01mor\u001b[39;00m \u001b[38;5;28mself\u001b[39m\u001b[38;5;241m.\u001b[39m_forward_pre_hooks\n\u001b[1;32m   1745\u001b[0m         \u001b[38;5;129;01mor\u001b[39;00m _global_backward_pre_hooks \u001b[38;5;129;01mor\u001b[39;00m _global_backward_hooks\n\u001b[1;32m   1746\u001b[0m         \u001b[38;5;129;01mor\u001b[39;00m _global_forward_hooks \u001b[38;5;129;01mor\u001b[39;00m _global_forward_pre_hooks):\n\u001b[0;32m-> 1747\u001b[0m     \u001b[38;5;28;01mreturn\u001b[39;00m \u001b[43mforward_call\u001b[49m\u001b[43m(\u001b[49m\u001b[38;5;241;43m*\u001b[39;49m\u001b[43margs\u001b[49m\u001b[43m,\u001b[49m\u001b[43m \u001b[49m\u001b[38;5;241;43m*\u001b[39;49m\u001b[38;5;241;43m*\u001b[39;49m\u001b[43mkwargs\u001b[49m\u001b[43m)\u001b[49m\n\u001b[1;32m   1749\u001b[0m result \u001b[38;5;241m=\u001b[39m \u001b[38;5;28;01mNone\u001b[39;00m\n\u001b[1;32m   1750\u001b[0m called_always_called_hooks \u001b[38;5;241m=\u001b[39m \u001b[38;5;28mset\u001b[39m()\n",
      "File \u001b[0;32m~/Documents/Repos/RlArcProject/rlarcworld/agent/actor.py:104\u001b[0m, in \u001b[0;36mArcActorNetwork.forward\u001b[0;34m(self, state)\u001b[0m\n\u001b[1;32m    102\u001b[0m \u001b[38;5;66;03m# Brodcast the state\u001b[39;00m\n\u001b[1;32m    103\u001b[0m \u001b[38;5;28;01mfor\u001b[39;00m key, value \u001b[38;5;129;01min\u001b[39;00m state\u001b[38;5;241m.\u001b[39mitems():\n\u001b[0;32m--> 104\u001b[0m     state[key] \u001b[38;5;241m=\u001b[39m \u001b[38;5;28;43mself\u001b[39;49m\u001b[38;5;241;43m.\u001b[39;49m\u001b[43minputs_layers\u001b[49m\u001b[43m[\u001b[49m\u001b[43mkey\u001b[49m\u001b[43m]\u001b[49m\u001b[43m(\u001b[49m\u001b[43mvalue\u001b[49m\u001b[43m)\u001b[49m\n\u001b[1;32m    105\u001b[0m     state[key] \u001b[38;5;241m=\u001b[39m torch\u001b[38;5;241m.\u001b[39mrelu(state[key])\n\u001b[1;32m    106\u001b[0m     state[key] \u001b[38;5;241m=\u001b[39m state[key]\u001b[38;5;241m.\u001b[39mview(state[key]\u001b[38;5;241m.\u001b[39mshape[\u001b[38;5;241m0\u001b[39m], \u001b[38;5;241m-\u001b[39m\u001b[38;5;241m1\u001b[39m)\n",
      "File \u001b[0;32m~/.cache/pypoetry/virtualenvs/rlarcworld-ADz4tFzs-py3.12/lib/python3.12/site-packages/torch/nn/modules/module.py:1736\u001b[0m, in \u001b[0;36mModule._wrapped_call_impl\u001b[0;34m(self, *args, **kwargs)\u001b[0m\n\u001b[1;32m   1734\u001b[0m     \u001b[38;5;28;01mreturn\u001b[39;00m \u001b[38;5;28mself\u001b[39m\u001b[38;5;241m.\u001b[39m_compiled_call_impl(\u001b[38;5;241m*\u001b[39margs, \u001b[38;5;241m*\u001b[39m\u001b[38;5;241m*\u001b[39mkwargs)  \u001b[38;5;66;03m# type: ignore[misc]\u001b[39;00m\n\u001b[1;32m   1735\u001b[0m \u001b[38;5;28;01melse\u001b[39;00m:\n\u001b[0;32m-> 1736\u001b[0m     \u001b[38;5;28;01mreturn\u001b[39;00m \u001b[38;5;28;43mself\u001b[39;49m\u001b[38;5;241;43m.\u001b[39;49m\u001b[43m_call_impl\u001b[49m\u001b[43m(\u001b[49m\u001b[38;5;241;43m*\u001b[39;49m\u001b[43margs\u001b[49m\u001b[43m,\u001b[49m\u001b[43m \u001b[49m\u001b[38;5;241;43m*\u001b[39;49m\u001b[38;5;241;43m*\u001b[39;49m\u001b[43mkwargs\u001b[49m\u001b[43m)\u001b[49m\n",
      "File \u001b[0;32m~/.cache/pypoetry/virtualenvs/rlarcworld-ADz4tFzs-py3.12/lib/python3.12/site-packages/torch/nn/modules/module.py:1747\u001b[0m, in \u001b[0;36mModule._call_impl\u001b[0;34m(self, *args, **kwargs)\u001b[0m\n\u001b[1;32m   1742\u001b[0m \u001b[38;5;66;03m# If we don't have any hooks, we want to skip the rest of the logic in\u001b[39;00m\n\u001b[1;32m   1743\u001b[0m \u001b[38;5;66;03m# this function, and just call forward.\u001b[39;00m\n\u001b[1;32m   1744\u001b[0m \u001b[38;5;28;01mif\u001b[39;00m \u001b[38;5;129;01mnot\u001b[39;00m (\u001b[38;5;28mself\u001b[39m\u001b[38;5;241m.\u001b[39m_backward_hooks \u001b[38;5;129;01mor\u001b[39;00m \u001b[38;5;28mself\u001b[39m\u001b[38;5;241m.\u001b[39m_backward_pre_hooks \u001b[38;5;129;01mor\u001b[39;00m \u001b[38;5;28mself\u001b[39m\u001b[38;5;241m.\u001b[39m_forward_hooks \u001b[38;5;129;01mor\u001b[39;00m \u001b[38;5;28mself\u001b[39m\u001b[38;5;241m.\u001b[39m_forward_pre_hooks\n\u001b[1;32m   1745\u001b[0m         \u001b[38;5;129;01mor\u001b[39;00m _global_backward_pre_hooks \u001b[38;5;129;01mor\u001b[39;00m _global_backward_hooks\n\u001b[1;32m   1746\u001b[0m         \u001b[38;5;129;01mor\u001b[39;00m _global_forward_hooks \u001b[38;5;129;01mor\u001b[39;00m _global_forward_pre_hooks):\n\u001b[0;32m-> 1747\u001b[0m     \u001b[38;5;28;01mreturn\u001b[39;00m \u001b[43mforward_call\u001b[49m\u001b[43m(\u001b[49m\u001b[38;5;241;43m*\u001b[39;49m\u001b[43margs\u001b[49m\u001b[43m,\u001b[49m\u001b[43m \u001b[49m\u001b[38;5;241;43m*\u001b[39;49m\u001b[38;5;241;43m*\u001b[39;49m\u001b[43mkwargs\u001b[49m\u001b[43m)\u001b[49m\n\u001b[1;32m   1749\u001b[0m result \u001b[38;5;241m=\u001b[39m \u001b[38;5;28;01mNone\u001b[39;00m\n\u001b[1;32m   1750\u001b[0m called_always_called_hooks \u001b[38;5;241m=\u001b[39m \u001b[38;5;28mset\u001b[39m()\n",
      "File \u001b[0;32m~/.cache/pypoetry/virtualenvs/rlarcworld-ADz4tFzs-py3.12/lib/python3.12/site-packages/torch/nn/modules/conv.py:554\u001b[0m, in \u001b[0;36mConv2d.forward\u001b[0;34m(self, input)\u001b[0m\n\u001b[1;32m    553\u001b[0m \u001b[38;5;28;01mdef\u001b[39;00m \u001b[38;5;21mforward\u001b[39m(\u001b[38;5;28mself\u001b[39m, \u001b[38;5;28minput\u001b[39m: Tensor) \u001b[38;5;241m-\u001b[39m\u001b[38;5;241m>\u001b[39m Tensor:\n\u001b[0;32m--> 554\u001b[0m     \u001b[38;5;28;01mreturn\u001b[39;00m \u001b[38;5;28;43mself\u001b[39;49m\u001b[38;5;241;43m.\u001b[39;49m\u001b[43m_conv_forward\u001b[49m\u001b[43m(\u001b[49m\u001b[38;5;28;43minput\u001b[39;49m\u001b[43m,\u001b[49m\u001b[43m \u001b[49m\u001b[38;5;28;43mself\u001b[39;49m\u001b[38;5;241;43m.\u001b[39;49m\u001b[43mweight\u001b[49m\u001b[43m,\u001b[49m\u001b[43m \u001b[49m\u001b[38;5;28;43mself\u001b[39;49m\u001b[38;5;241;43m.\u001b[39;49m\u001b[43mbias\u001b[49m\u001b[43m)\u001b[49m\n",
      "File \u001b[0;32m~/.cache/pypoetry/virtualenvs/rlarcworld-ADz4tFzs-py3.12/lib/python3.12/site-packages/torch/nn/modules/conv.py:549\u001b[0m, in \u001b[0;36mConv2d._conv_forward\u001b[0;34m(self, input, weight, bias)\u001b[0m\n\u001b[1;32m    537\u001b[0m \u001b[38;5;28;01mif\u001b[39;00m \u001b[38;5;28mself\u001b[39m\u001b[38;5;241m.\u001b[39mpadding_mode \u001b[38;5;241m!=\u001b[39m \u001b[38;5;124m\"\u001b[39m\u001b[38;5;124mzeros\u001b[39m\u001b[38;5;124m\"\u001b[39m:\n\u001b[1;32m    538\u001b[0m     \u001b[38;5;28;01mreturn\u001b[39;00m F\u001b[38;5;241m.\u001b[39mconv2d(\n\u001b[1;32m    539\u001b[0m         F\u001b[38;5;241m.\u001b[39mpad(\n\u001b[1;32m    540\u001b[0m             \u001b[38;5;28minput\u001b[39m, \u001b[38;5;28mself\u001b[39m\u001b[38;5;241m.\u001b[39m_reversed_padding_repeated_twice, mode\u001b[38;5;241m=\u001b[39m\u001b[38;5;28mself\u001b[39m\u001b[38;5;241m.\u001b[39mpadding_mode\n\u001b[0;32m   (...)\u001b[0m\n\u001b[1;32m    547\u001b[0m         \u001b[38;5;28mself\u001b[39m\u001b[38;5;241m.\u001b[39mgroups,\n\u001b[1;32m    548\u001b[0m     )\n\u001b[0;32m--> 549\u001b[0m \u001b[38;5;28;01mreturn\u001b[39;00m \u001b[43mF\u001b[49m\u001b[38;5;241;43m.\u001b[39;49m\u001b[43mconv2d\u001b[49m\u001b[43m(\u001b[49m\n\u001b[1;32m    550\u001b[0m \u001b[43m    \u001b[49m\u001b[38;5;28;43minput\u001b[39;49m\u001b[43m,\u001b[49m\u001b[43m \u001b[49m\u001b[43mweight\u001b[49m\u001b[43m,\u001b[49m\u001b[43m \u001b[49m\u001b[43mbias\u001b[49m\u001b[43m,\u001b[49m\u001b[43m \u001b[49m\u001b[38;5;28;43mself\u001b[39;49m\u001b[38;5;241;43m.\u001b[39;49m\u001b[43mstride\u001b[49m\u001b[43m,\u001b[49m\u001b[43m \u001b[49m\u001b[38;5;28;43mself\u001b[39;49m\u001b[38;5;241;43m.\u001b[39;49m\u001b[43mpadding\u001b[49m\u001b[43m,\u001b[49m\u001b[43m \u001b[49m\u001b[38;5;28;43mself\u001b[39;49m\u001b[38;5;241;43m.\u001b[39;49m\u001b[43mdilation\u001b[49m\u001b[43m,\u001b[49m\u001b[43m \u001b[49m\u001b[38;5;28;43mself\u001b[39;49m\u001b[38;5;241;43m.\u001b[39;49m\u001b[43mgroups\u001b[49m\n\u001b[1;32m    551\u001b[0m \u001b[43m\u001b[49m\u001b[43m)\u001b[49m\n",
      "\u001b[0;31mRuntimeError\u001b[0m: Input type (long int) and bias type (float) should be the same"
     ]
    }
   ],
   "source": [
    "for episode, samples in enumerate(train_samples):\n",
    "    observation, information = env.reset(\n",
    "        options={\"batch\": samples[\"task\"], \"examples\":samples[\"examples\"]}, seed=episode\n",
    "    )\n",
    "    for step in range(n_steps):\n",
    "        init_state = env.get_wrapper_attr(\"state\")\n",
    "        actions = actor(init_state)\n",
    "        obs, reward, terminated, truncated, info = env.step(actor.get_discrete_actions(actions))\n",
    "        final_state = env.get_wrapper_attr(\"state\")\n",
    "        final_state.update({\"actions\": actions})\n",
    "        critic.predict(final_state)\n",
    "        if terminated or truncated:\n",
    "            break"
   ]
  },
  {
   "cell_type": "code",
   "execution_count": 7,
   "metadata": {},
   "outputs": [
    {
     "ename": "TypeError",
     "evalue": "ReplayBuffer.update_priority() missing 1 required positional argument: 'priority'",
     "output_type": "error",
     "traceback": [
      "\u001b[0;31m---------------------------------------------------------------------------\u001b[0m",
      "\u001b[0;31mTypeError\u001b[0m                                 Traceback (most recent call last)",
      "Cell \u001b[0;32mIn[7], line 13\u001b[0m\n\u001b[1;32m     11\u001b[0m data \u001b[38;5;241m=\u001b[39m torch\u001b[38;5;241m.\u001b[39mstack([data_0, data_1])\n\u001b[1;32m     12\u001b[0m rb\u001b[38;5;241m.\u001b[39mextend(data)\n\u001b[0;32m---> 13\u001b[0m \u001b[43mrb\u001b[49m\u001b[38;5;241;43m.\u001b[39;49m\u001b[43mupdate_priority\u001b[49m\u001b[43m(\u001b[49m\u001b[43mdata\u001b[49m\u001b[43m)\u001b[49m  \u001b[38;5;66;03m# Reads the \"priority\" key as indicated in the constructor\u001b[39;00m\n\u001b[1;32m     14\u001b[0m sample, info \u001b[38;5;241m=\u001b[39m rb\u001b[38;5;241m.\u001b[39msample(\u001b[38;5;241m10\u001b[39m, return_info\u001b[38;5;241m=\u001b[39m\u001b[38;5;28;01mTrue\u001b[39;00m)\n\u001b[1;32m     15\u001b[0m \u001b[38;5;28mprint\u001b[39m(sample[\u001b[38;5;124m'\u001b[39m\u001b[38;5;124mindex\u001b[39m\u001b[38;5;124m'\u001b[39m])  \u001b[38;5;66;03m# The index is packed with the tensordict\u001b[39;00m\n",
      "\u001b[0;31mTypeError\u001b[0m: ReplayBuffer.update_priority() missing 1 required positional argument: 'priority'"
     ]
    }
   ],
   "source": [
    "from torchrl.data.replay_buffers import TensorDictReplayBuffer as TDRB, LazyTensorStorage, PrioritizedSampler\n",
    "from tensordict import TensorDict\n",
    "rb = TDRB(\n",
    "    storage=LazyTensorStorage(10),\n",
    "    sampler=PrioritizedSampler(max_capacity=10, alpha=1.0, beta=1.0),\n",
    "    priority_key=\"priority\",  # This kwarg isn't present in regular RBs\n",
    ")\n",
    "priority = torch.tensor([0, 1000])\n",
    "data_0 = TensorDict({\"reward\": 0, \"obs\": [0], \"action\": [0], \"priority\": priority[0]}, [])\n",
    "data_1 = TensorDict({\"reward\": 1, \"obs\": [1], \"action\": [2], \"priority\": priority[1]}, [])\n",
    "data = torch.stack([data_0, data_1])\n",
    "rb.extend(data)\n",
    "rb.update_priority(data)  # Reads the \"priority\" key as indicated in the constructor\n",
    "sample, info = rb.sample(10, return_info=True)\n",
    "print(sample['index'])  # The index is packed with the tensordict\n",
    "torch.tdensor([1, 1, 1, 1, 1, 1, 1, 1, 1, 1])"
   ]
  },
  {
   "cell_type": "code",
   "execution_count": null,
   "metadata": {},
   "outputs": [
    {
     "name": "stdout",
     "output_type": "stream",
     "text": [
      "Original distribution: tensor([0.5012, 0.3661, 0.0283, 0.1044])\n",
      "torch.Size([32])\n"
     ]
    },
    {
     "ename": "IndexError",
     "evalue": "index 15 is out of bounds for dimension 1 with size 4",
     "output_type": "error",
     "traceback": [
      "\u001b[0;31m---------------------------------------------------------------------------\u001b[0m",
      "\u001b[0;31mIndexError\u001b[0m                                Traceback (most recent call last)",
      "Cell \u001b[0;32mIn[19], line 60\u001b[0m\n\u001b[1;32m     58\u001b[0m reward \u001b[38;5;241m=\u001b[39m torch\u001b[38;5;241m.\u001b[39mrandint(\u001b[38;5;28mint\u001b[39m(v_min\u001b[38;5;241m-\u001b[39m\u001b[38;5;241m2\u001b[39m), \u001b[38;5;28mint\u001b[39m(v_max\u001b[38;5;241m+\u001b[39m\u001b[38;5;241m2\u001b[39m), (batch_size,))\u001b[38;5;241m.\u001b[39mfloat()\n\u001b[1;32m     59\u001b[0m done \u001b[38;5;241m=\u001b[39m torch\u001b[38;5;241m.\u001b[39mrandint(\u001b[38;5;241m0\u001b[39m, \u001b[38;5;241m2\u001b[39m, (batch_size,))\u001b[38;5;241m.\u001b[39mfloat()\n\u001b[0;32m---> 60\u001b[0m projected_dist \u001b[38;5;241m=\u001b[39m \u001b[43mcategorical_projection\u001b[49m\u001b[43m(\u001b[49m\u001b[43mdistribution\u001b[49m\u001b[43m,\u001b[49m\u001b[43m \u001b[49m\u001b[43mreward\u001b[49m\u001b[43m,\u001b[49m\u001b[43m \u001b[49m\u001b[43mv_min\u001b[49m\u001b[43m,\u001b[49m\u001b[43m \u001b[49m\u001b[43mv_max\u001b[49m\u001b[43m,\u001b[49m\u001b[43m \u001b[49m\u001b[43mnum_atoms\u001b[49m\u001b[43m,\u001b[49m\u001b[43mdone\u001b[49m\u001b[43m)\u001b[49m\n\u001b[1;32m     61\u001b[0m \u001b[38;5;28mprint\u001b[39m(\u001b[38;5;124m\"\u001b[39m\u001b[38;5;124mProjected distribution shape (0-1 rewards):\u001b[39m\u001b[38;5;124m\"\u001b[39m, projected_dist\u001b[38;5;241m.\u001b[39mshape)\n\u001b[1;32m     62\u001b[0m \u001b[38;5;28mprint\u001b[39m(\u001b[38;5;124m\"\u001b[39m\u001b[38;5;124mExample projected distribution (0-1 rewards):\u001b[39m\u001b[38;5;130;01m\\n\u001b[39;00m\u001b[38;5;124m\"\u001b[39m, projected_dist[\u001b[38;5;241m0\u001b[39m])\n",
      "Cell \u001b[0;32mIn[19], line 28\u001b[0m, in \u001b[0;36mcategorical_projection\u001b[0;34m(distribution, reward, v_min, v_max, num_atoms, done)\u001b[0m\n\u001b[1;32m     26\u001b[0m \u001b[38;5;28mprint\u001b[39m(next_q_values\u001b[38;5;241m.\u001b[39mshape)\n\u001b[1;32m     27\u001b[0m best_next_action \u001b[38;5;241m=\u001b[39m torch\u001b[38;5;241m.\u001b[39margmax(next_q_values, dim\u001b[38;5;241m=\u001b[39m\u001b[38;5;241m-\u001b[39m\u001b[38;5;241m1\u001b[39m)  \u001b[38;5;66;03m# Shape: (batch_size,)\u001b[39;00m\n\u001b[0;32m---> 28\u001b[0m best_next_q_dist \u001b[38;5;241m=\u001b[39m \u001b[43mdistribution\u001b[49m\u001b[43m[\u001b[49m\n\u001b[1;32m     29\u001b[0m \u001b[43m    \u001b[49m\u001b[43mtorch\u001b[49m\u001b[38;5;241;43m.\u001b[39;49m\u001b[43marange\u001b[49m\u001b[43m(\u001b[49m\u001b[43mdistribution\u001b[49m\u001b[38;5;241;43m.\u001b[39;49m\u001b[43msize\u001b[49m\u001b[43m(\u001b[49m\u001b[38;5;241;43m0\u001b[39;49m\u001b[43m)\u001b[49m\u001b[43m)\u001b[49m\u001b[43m,\u001b[49m\u001b[43m \u001b[49m\u001b[43mbest_next_action\u001b[49m\n\u001b[1;32m     30\u001b[0m \u001b[43m\u001b[49m\u001b[43m]\u001b[49m  \u001b[38;5;66;03m# Shape: (batch_size, num_atoms)\u001b[39;00m\n\u001b[1;32m     32\u001b[0m \u001b[38;5;66;03m# Bellman backup for distribution\u001b[39;00m\n\u001b[1;32m     33\u001b[0m tz \u001b[38;5;241m=\u001b[39m reward\u001b[38;5;241m.\u001b[39munsqueeze(\u001b[38;5;241m-\u001b[39m\u001b[38;5;241m1\u001b[39m) \u001b[38;5;241m+\u001b[39m \u001b[38;5;241m0.99\u001b[39m \u001b[38;5;241m*\u001b[39m (\u001b[38;5;241m1\u001b[39m \u001b[38;5;241m-\u001b[39m done\u001b[38;5;241m.\u001b[39munsqueeze(\u001b[38;5;241m-\u001b[39m\u001b[38;5;241m1\u001b[39m)) \u001b[38;5;241m*\u001b[39m z\u001b[38;5;241m.\u001b[39munsqueeze(\u001b[38;5;241m0\u001b[39m)\n",
      "\u001b[0;31mIndexError\u001b[0m: index 15 is out of bounds for dimension 1 with size 4"
     ]
    }
   ],
   "source": [
    "import torch\n",
    "import torch.nn.functional as F\n",
    "\n",
    "def categorical_projection(distribution, reward, v_min, v_max, num_atoms, done):\n",
    "    \"\"\"Projects a distribution onto a categorical distribution.\n",
    "\n",
    "    Args:\n",
    "        distribution (torch.Tensor): The distribution to project (batch_size, num_atoms).\n",
    "        reward (torch.Tensor): The target values (batch_size,).\n",
    "        v_min (float): Minimum value of the support.\n",
    "        v_max (float): Maximum value of the support.\n",
    "        num_atoms (int): Number of atoms in the categorical distribution.\n",
    "        done (torch.Tensor): Done flags from the batch.\n",
    "\n",
    "    Returns:\n",
    "        torch.Tensor: Projected distribution (batch_size, num_atoms).\n",
    "    \"\"\"\n",
    "\n",
    "    delta_z = (v_max - v_min) / (num_atoms - 1)\n",
    "    z = torch.linspace(v_min, v_max, num_atoms).to(reward.device)  # Atom values\n",
    "\n",
    "    # Compute the expected action distribution\n",
    "    next_q_values = (distribution * z).sum(\n",
    "        dim=-1\n",
    "    )  # Shape: (batch_size, num_actions)\n",
    "    print(next_q_values.shape)\n",
    "    best_next_action = torch.argmax(next_q_values, dim=-1)  # Shape: (batch_size,)\n",
    "    best_next_q_dist = distribution[\n",
    "        torch.arange(distribution.size(0)), best_next_action\n",
    "    ]  # Shape: (batch_size, num_atoms)\n",
    "\n",
    "    # Bellman backup for distribution\n",
    "    tz = reward.unsqueeze(-1) + 0.99 * (1 - done.unsqueeze(-1)) * z.unsqueeze(0)\n",
    "    tz = tz.clamp(v_min, v_max)\n",
    "    b = (tz - v_min) / delta_z\n",
    "    l, u = b.floor().long(), b.ceil().long()\n",
    "    l = l.clamp(0, num_atoms - 1)\n",
    "    u = u.clamp(0, num_atoms - 1)\n",
    "\n",
    "    # Distribute probability mass\n",
    "    target_dist = torch.zeros_like(best_next_q_dist)\n",
    "    target_dist.scatter_add_(\n",
    "        dim=-1, index=l, src=best_next_q_dist * (u.float() - b)\n",
    "    )\n",
    "    target_dist.scatter_add_(\n",
    "        dim=-1, index=u, src=best_next_q_dist * (b - l.float())\n",
    "    )\n",
    "\n",
    "    return target_dist\n",
    "\n",
    "# Example 1: Rewards 0 or 1\n",
    "batch_size = 32\n",
    "num_atoms = 4\n",
    "v_min = -1.0\n",
    "v_max = 2.0\n",
    "distribution = torch.randn(batch_size, num_atoms).softmax(dim=-1)  # Normalize the distribution\n",
    "print(\"Original distribution:\", distribution[0])\n",
    "reward = torch.randint(int(v_min), int(v_max), (batch_size,)).float()\n",
    "done = torch.randint(0, 2, (batch_size,)).float()\n",
    "projected_dist = categorical_projection(distribution, reward, v_min, v_max, num_atoms,done)\n",
    "print(\"Projected distribution shape (0-1 rewards):\", projected_dist.shape)\n",
    "print(\"Example projected distribution (0-1 rewards):\\n\", projected_dist[0])\n",
    "\n",
    "# Example 2: Rewards -900, -2, -1, or 0\n",
    "v_min = -1000.0\n",
    "v_max = 2.0\n",
    "num_atoms = 1000\n",
    "reward = torch.randint(int(v_min), int(v_max), (batch_size,)).float()\n",
    "distribution = torch.randn(batch_size, num_atoms).softmax(dim=-1)  # Normalize the distribution\n",
    "print(\"Original distribution:\", distribution[0])\n",
    "projected_dist = categorical_projection(distribution, reward, v_min, v_max, num_atoms,done)\n",
    "print(\"\\nProjected distribution shape (-900 to 0 rewards):\", projected_dist.shape)\n",
    "print(\"Example projected distribution (-900 to 0 rewards):\\n\", projected_dist[0])"
   ]
  },
  {
   "cell_type": "code",
   "execution_count": 18,
   "metadata": {},
   "outputs": [
    {
     "data": {
      "text/plain": [
       "tensor([0.5824, 0.4319, 0.4766, 0.7789, 0.7979, 0.4295, 0.6930, 0.3343, 0.4795,\n",
       "        0.7065, 0.4422, 0.4728, 0.6305, 0.3167, 0.6947, 0.3992, 0.4781, 0.6013,\n",
       "        0.4806, 0.6819, 0.4991, 0.4540, 0.3671, 0.7688, 0.7215, 0.4388, 0.5435,\n",
       "        0.3948, 0.5157, 0.5096, 0.4434, 0.6468])"
      ]
     },
     "execution_count": 18,
     "metadata": {},
     "output_type": "execute_result"
    }
   ],
   "source": [
    "def categorical_projection(next_q_dist, rewards, dones, gamma, v_min, v_max, num_atoms):\n",
    "    \"\"\"\n",
    "    Projects the target distribution using the Bellman update.\n",
    "\n",
    "    Args:\n",
    "        next_q_dist (torch.Tensor): Next state Q-distribution (batch_size, num_atoms).\n",
    "        rewards (torch.Tensor): Rewards from the batch (batch_size, 1).\n",
    "        dones (torch.Tensor): Done flags from the batch (batch_size, 1).\n",
    "        gamma (float): Discount factor.\n",
    "        v_min (float): Minimum value for value distribution.\n",
    "        v_max (float): Maximum value for value distribution.\n",
    "        num_atoms (int): Number of atoms in the distribution.\n",
    "\n",
    "    Returns:\n",
    "        torch.Tensor: Projected target distribution (batch_size, num_atoms).\n",
    "    \"\"\"\n",
    "    delta_z = (v_max - v_min) / (num_atoms - 1)\n",
    "    z = torch.linspace(v_min, v_max, num_atoms).to(rewards.device)  # Atom values\n",
    "\n",
    "    # Compute the target distribution support\n",
    "    tz = rewards.unsqueeze(-1) + gamma * (1 - dones.unsqueeze(-1)) * z.unsqueeze(0)\n",
    "    tz = tz.clamp(v_min, v_max)\n",
    "\n",
    "    # Map values to categorical bins\n",
    "    b = (tz - v_min) / delta_z\n",
    "    l, u = b.floor().long(), b.ceil().long()\n",
    "    l = l.clamp(0, num_atoms - 1)\n",
    "    u = u.clamp(0, num_atoms - 1)\n",
    "\n",
    "    # Distribute probability mass\n",
    "    projected_dist = torch.zeros_like(next_q_dist)\n",
    "    projected_dist.scatter_add_(dim=-1, index=l, src=next_q_dist * (u.float() - b))\n",
    "    projected_dist.scatter_add_(dim=-1, index=u, src=next_q_dist * (b - l.float()))\n",
    "    \n",
    "    return projected_dist\n"
   ]
  },
  {
   "cell_type": "code",
   "execution_count": null,
   "metadata": {},
   "outputs": [],
   "source": [
    "def compute_critic_target_distribution(critic_target, actor_target, reward, next_state, done, gamma, num_atoms, v_min, v_max):\n",
    "    \"\"\"\n",
    "    Computes the target distribution for the critic network.\n",
    "\n",
    "    Args:\n",
    "        critic_target (nn.Module): Target critic network.\n",
    "        actor_target (nn.Module): Target actor network.\n",
    "        reward (torch.Tensor): Rewards from the batch.\n",
    "        next_state (TensorDict): TensorDict of next states.\n",
    "        done (torch.Tensor): Done flags from the batch.\n",
    "        gamma (float): Discount factor.\n",
    "        num_atoms (int): Number of atoms for the categorical distribution.\n",
    "        v_min (float): Minimum value for value distribution.\n",
    "        v_max (float): Maximum value for value distribution.\n",
    "\n",
    "    Returns:\n",
    "        torch.Tensor: Projected target distribution (batch_size, num_atoms).\n",
    "    \"\"\"\n",
    "    z = torch.linspace(v_min, v_max, num_atoms).to(reward.device)  # Atom values\n",
    "\n",
    "    # Get next-action probabilities from the target actor\n",
    "    next_action_probs = actor_target(next_state).get(\"action_probs\")  # Shape: (batch_size, num_actions)\n",
    "    next_q_dist = critic_target(next_state).get(\"q_dist\")  # Shape: (batch_size, num_actions, num_atoms)\n",
    "    \n",
    "    # Compute the expected action distribution\n",
    "    next_q_values = (next_q_dist * z).sum(dim=-1)  # Shape: (batch_size, num_actions)\n",
    "    best_next_action = torch.argmax(next_q_values, dim=-1)  # Shape: (batch_size,)\n",
    "    best_next_q_dist = next_q_dist[torch.arange(next_q_dist.size(0)), best_next_action]  # Shape: (batch_size, num_atoms)\n",
    "    \n",
    "    # Use the categorical projection function\n",
    "    target_dist = categorical_projection(best_next_q_dist, reward, done, gamma, v_min, v_max, num_atoms)\n",
    "    return target_dist\n"
   ]
  },
  {
   "cell_type": "code",
   "execution_count": 21,
   "metadata": {},
   "outputs": [
    {
     "name": "stdout",
     "output_type": "stream",
     "text": [
      "torch.Size([3, 4, 10])\n",
      "tensor([[[0.0000, 0.4444, 1.7778, 2.0000, 1.3333, 3.3333, 4.0000, 0.0000,\n",
      "          7.1111, 8.0000],\n",
      "         [0.0000, 0.4444, 2.0000, 2.0000, 1.7778, 0.0000, 1.3333, 3.8889,\n",
      "          2.6667, 2.0000],\n",
      "         [0.0000, 0.1111, 2.0000, 2.3333, 2.2222, 1.1111, 0.0000, 0.0000,\n",
      "          6.2222, 4.0000],\n",
      "         [0.0000, 0.0000, 1.1111, 1.6667, 1.3333, 2.2222, 2.0000, 3.8889,\n",
      "          3.5556, 5.0000]],\n",
      "\n",
      "        [[0.0000, 0.7778, 1.3333, 2.6667, 3.5556, 1.6667, 5.3333, 2.3333,\n",
      "          8.0000, 4.0000],\n",
      "         [0.0000, 0.1111, 0.8889, 1.6667, 0.8889, 2.2222, 3.3333, 0.0000,\n",
      "          6.2222, 8.0000],\n",
      "         [0.0000, 0.2222, 0.8889, 2.0000, 0.0000, 3.8889, 2.6667, 3.8889,\n",
      "          8.0000, 4.0000],\n",
      "         [0.0000, 0.0000, 2.0000, 0.6667, 1.3333, 3.3333, 3.3333, 0.0000,\n",
      "          2.6667, 1.0000]],\n",
      "\n",
      "        [[0.0000, 0.4444, 2.0000, 3.0000, 1.3333, 0.0000, 6.0000, 6.2222,\n",
      "          4.4444, 2.0000],\n",
      "         [0.0000, 0.6667, 1.7778, 2.0000, 2.6667, 1.1111, 4.0000, 4.6667,\n",
      "          1.7778, 9.0000],\n",
      "         [0.0000, 1.0000, 0.2222, 3.0000, 3.5556, 0.0000, 1.3333, 3.8889,\n",
      "          2.6667, 6.0000],\n",
      "         [0.0000, 0.0000, 2.0000, 1.3333, 3.5556, 2.7778, 0.6667, 0.0000,\n",
      "          7.1111, 8.0000]]])\n",
      "torch.Size([3, 4])\n"
     ]
    },
    {
     "data": {
      "text/plain": [
       "tensor([[28.0000, 16.1111, 18.0000, 20.7778],\n",
       "        [29.6667, 23.3333, 25.5556, 14.3333],\n",
       "        [25.4444, 27.6667, 21.6667, 25.4444]])"
      ]
     },
     "execution_count": 21,
     "metadata": {},
     "output_type": "execute_result"
    }
   ],
   "source": [
    "z = torch.linspace(0, 1, 10)\n",
    "q = torch.randint(0, 10, (3,4,10)).float()\n",
    "q_v = (q*z)\n",
    "print(q_v.shape)\n",
    "print(q_v)\n",
    "print(q_v.sum(dim=-1).shape)\n",
    "q_v.sum(dim=-1)"
   ]
  },
  {
   "cell_type": "code",
   "execution_count": 11,
   "metadata": {},
   "outputs": [
    {
     "name": "stdout",
     "output_type": "stream",
     "text": [
      "TensorDict(\n",
      "    fields={\n",
      "        color_values: Tensor(shape=torch.Size([10, 11]), device=cpu, dtype=torch.float32, is_shared=False),\n",
      "        submit: Tensor(shape=torch.Size([10, 2]), device=cpu, dtype=torch.float32, is_shared=False),\n",
      "        x_location: Tensor(shape=torch.Size([10, 30]), device=cpu, dtype=torch.float32, is_shared=False),\n",
      "        y_location: Tensor(shape=torch.Size([10, 30]), device=cpu, dtype=torch.float32, is_shared=False)},\n",
      "    batch_size=torch.Size([]),\n",
      "    device=None,\n",
      "    is_shared=False)\n"
     ]
    }
   ],
   "source": [
    "import torch\n",
    "from tensordict import TensorDict\n",
    "actions = TensorDict(\n",
    "    {\n",
    "                \"x_location\": torch.randn(10, 30),\n",
    "                \"y_location\": torch.randn(10, 30),\n",
    "                \"color_values\": torch.randn(10, 11),\n",
    "                \"submit\": torch.randn(10, 2),\n",
    "            }\n",
    ")\n",
    "\n",
    "print(actions)"
   ]
  },
  {
   "cell_type": "code",
   "execution_count": 24,
   "metadata": {},
   "outputs": [
    {
     "data": {
      "text/plain": [
       "tensor([[24,  7,  5,  0],\n",
       "        [24, 13,  7,  0],\n",
       "        [22,  8,  1,  1],\n",
       "        [ 4, 12, 10,  0],\n",
       "        [17, 14,  9,  0],\n",
       "        [29, 17,  0,  0],\n",
       "        [ 0,  6,  0,  1],\n",
       "        [17, 28,  0,  1],\n",
       "        [ 9, 17,  3,  1],\n",
       "        [ 0, 24,  1,  0]])"
      ]
     },
     "execution_count": 24,
     "metadata": {},
     "output_type": "execute_result"
    }
   ],
   "source": [
    "torch.cat([torch.argmax(x, dim=-1).unsqueeze(-1) for x in actions.values()], dim=-1)"
   ]
  },
  {
   "cell_type": "code",
   "execution_count": null,
   "metadata": {},
   "outputs": [],
   "source": []
  }
 ],
 "metadata": {
  "kernelspec": {
   "display_name": "rlarcworld-ADz4tFzs-py3.12",
   "language": "python",
   "name": "python3"
  },
  "language_info": {
   "codemirror_mode": {
    "name": "ipython",
    "version": 3
   },
   "file_extension": ".py",
   "mimetype": "text/x-python",
   "name": "python",
   "nbconvert_exporter": "python",
   "pygments_lexer": "ipython3",
   "version": "3.12.7"
  }
 },
 "nbformat": 4,
 "nbformat_minor": 2
}
