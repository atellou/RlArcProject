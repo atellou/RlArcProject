{
 "cells": [
  {
   "cell_type": "code",
   "execution_count": 3,
   "metadata": {},
   "outputs": [
    {
     "name": "stderr",
     "output_type": "stream",
     "text": [
      "2025-02-14 12:27:29 - arc_batch_grid_env.py - INFO - Registering gymnasium environment\n"
     ]
    }
   ],
   "source": [
    "from torchrl.data.replay_buffers import (\n",
    "    TensorDictReplayBuffer,\n",
    "    LazyTensorStorage,\n",
    "    PrioritizedSampler,\n",
    ")\n",
    "from tensordict import TensorDict\n",
    "\n",
    "import torch\n",
    "from torch.utils.data import DataLoader\n",
    "import matplotlib.pyplot as plt\n",
    "import gymnasium as gym\n",
    "import numpy as np\n",
    "\n",
    "from rlarcworld.arc_dataset import ArcDataset, ArcSampleTransformer\n",
    "from rlarcworld.enviroments.arc_batch_grid_env import ArcBatchGridEnv\n",
    "from rlarcworld.enviroments.wrappers.rewards import PixelAwareRewardWrapper\n",
    "from rlarcworld.agent.actor import ArcActorNetwork\n",
    "from rlarcworld.agent.critic import ArcCriticNetwork\n",
    "\n",
    "from rlarcworld.algorithms.d4pg import D4PG"
   ]
  },
  {
   "cell_type": "code",
   "execution_count": 5,
   "metadata": {},
   "outputs": [
    {
     "data": {
      "text/plain": [
       "(True, True)"
      ]
     },
     "execution_count": 5,
     "metadata": {},
     "output_type": "execute_result"
    }
   ],
   "source": [
    "env = ArcBatchGridEnv(\n",
    "    size=30,\n",
    "    color_values=11,\n",
    "    n_steps=1,\n",
    "    gamma=1.0,\n",
    ")\n",
    "\n",
    "env = PixelAwareRewardWrapper(env, n_steps=1, gamma=1.0)\n",
    "isinstance(env, PixelAwareRewardWrapper), isinstance(env.env, gym.Env)"
   ]
  },
  {
   "cell_type": "code",
   "execution_count": 8,
   "metadata": {},
   "outputs": [],
   "source": [
    "dataset = ArcDataset(\n",
    "            arc_dataset_dir=\"./dataset/training\",\n",
    "            keep_in_memory=True,\n",
    "            transform=ArcSampleTransformer(\n",
    "                (30, 30), examples_stack_dim=10\n",
    "            ),\n",
    "        )\n",
    "train_samples = DataLoader(dataset=dataset, batch_size=10)"
   ]
  },
  {
   "cell_type": "code",
   "execution_count": 9,
   "metadata": {},
   "outputs": [
    {
     "data": {
      "text/plain": [
       "416"
      ]
     },
     "execution_count": 9,
     "metadata": {},
     "output_type": "execute_result"
    }
   ],
   "source": [
    "len(dataset)"
   ]
  },
  {
   "cell_type": "code",
   "execution_count": 4,
   "metadata": {},
   "outputs": [],
   "source": [
    "for train_sample in train_samples:\n",
    "    pass    "
   ]
  },
  {
   "cell_type": "code",
   "execution_count": null,
   "metadata": {},
   "outputs": [
    {
     "name": "stdout",
     "output_type": "stream",
     "text": [
      "{'truncate': False}\n",
      "0\n",
      "{'truncate': False}\n",
      "1\n",
      "{'truncate': False}\n",
      "2\n",
      "{'truncate': False}\n",
      "3\n",
      "{'truncate': False}\n",
      "4\n",
      "{'truncate': False}\n",
      "5\n",
      "{'truncate': True}\n",
      "6\n",
      "{'truncate': True}\n",
      "7\n",
      "{'truncate': True}\n",
      "8\n",
      "{'truncate': True}\n",
      "9\n"
     ]
    }
   ],
   "source": [
    "def sampler(max_s):\n",
    "    sample = 0\n",
    "    x = {\"flag\": False}   \n",
    "    while sample < max_s:\n",
    "        x[\"i\"] = sample\n",
    "        yield x\n",
    "        sample += 1\n",
    "gener = sampler(10)\n",
    "for s in gener:\n",
    "    print(s)\n",
    "    if s[\"i\"] == 5:\n",
    "        break\n",
    "config[\"truncate\"] = True\n",
    "for s in gener:\n",
    "    print(s)"
   ]
  },
  {
   "cell_type": "code",
   "execution_count": 3,
   "metadata": {},
   "outputs": [
    {
     "name": "stdout",
     "output_type": "stream",
     "text": [
      "False\n",
      "0\n",
      "False\n",
      "1\n",
      "False\n",
      "2\n",
      "False\n",
      "3\n"
     ]
    }
   ],
   "source": [
    "flag = False\n",
    "gener = sampler(10, truncate=flag)\n",
    "print(next(gener))\n",
    "print(next(gener))\n",
    "flag = True\n",
    "print(next(gener))\n",
    "print(next(gener))"
   ]
  },
  {
   "cell_type": "code",
   "execution_count": null,
   "metadata": {},
   "outputs": [],
   "source": []
  }
 ],
 "metadata": {
  "kernelspec": {
   "display_name": "rlarcworld-or4M7hkz-py3.13",
   "language": "python",
   "name": "python3"
  },
  "language_info": {
   "codemirror_mode": {
    "name": "ipython",
    "version": 3
   },
   "file_extension": ".py",
   "mimetype": "text/x-python",
   "name": "python",
   "nbconvert_exporter": "python",
   "pygments_lexer": "ipython3",
   "version": "3.13.1"
  }
 },
 "nbformat": 4,
 "nbformat_minor": 2
}
